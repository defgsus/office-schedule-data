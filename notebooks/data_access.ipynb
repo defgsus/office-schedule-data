{
 "cells": [
  {
   "cell_type": "code",
   "execution_count": null,
   "id": "a1580217",
   "metadata": {},
   "outputs": [],
   "source": [
    "import sys\n",
    "sys.path.insert(0, \"..\")"
   ]
  },
  {
   "cell_type": "markdown",
   "id": "b9f5a101",
   "metadata": {},
   "source": [
    "# Data access"
   ]
  },
  {
   "cell_type": "code",
   "execution_count": null,
   "id": "fa46eecd",
   "metadata": {},
   "outputs": [],
   "source": [
    "from src.data import *"
   ]
  },
  {
   "cell_type": "markdown",
   "id": "505599ce",
   "metadata": {},
   "source": [
    "## Direct table access\n",
    "\n",
    "Each source (identified by `source_id`) is published as a single CSV file for each week. The CSVs contain the **free dates** that have been reported by the website at each snapshot time (typically every 15 minutes).\n",
    "\n",
    "The tables can be accessed with the `Data.get_table` class method:"
   ]
  },
  {
   "cell_type": "code",
   "execution_count": null,
   "id": "a7050a16",
   "metadata": {},
   "outputs": [],
   "source": [
    "columns, rows = Data.get_table((2021, 30), \"leipzig\")\n",
    "print(columns[:5])\n",
    "print(rows[0][:5])"
   ]
  },
  {
   "cell_type": "markdown",
   "id": "95a98fb5",
   "metadata": {},
   "source": [
    "Or with the `Data.get_dataframe` class method which returns a [pandas.DataFrame](https://pandas.pydata.org/pandas-docs/stable/reference/api/pandas.DataFrame.html):"
   ]
  },
  {
   "cell_type": "code",
   "execution_count": null,
   "id": "e44cbde4",
   "metadata": {},
   "outputs": [],
   "source": [
    "Data.get_dataframe((2021, 30), \"leipzig\")"
   ]
  },
  {
   "cell_type": "markdown",
   "id": "37efc69f",
   "metadata": {},
   "source": [
    "For convenience, both methods support adding the names from the [metadata.json](compressed/metadata.json) file:"
   ]
  },
  {
   "cell_type": "code",
   "execution_count": null,
   "id": "bbf97592",
   "metadata": {},
   "outputs": [],
   "source": [
    "Data.get_dataframe((2021, 30), \"leipzig\", with_meta=True)"
   ]
  },
  {
   "cell_type": "markdown",
   "id": "bd26c2ce",
   "metadata": {},
   "source": [
    "Dataframes are very useful to analyze the data. For example, we can count the sum of all free dates available for each sub-location:"
   ]
  },
  {
   "cell_type": "code",
   "execution_count": null,
   "id": "1ddf6e94",
   "metadata": {},
   "outputs": [],
   "source": [
    "df = Data.get_dataframe((2021, 30), \"leipzig\", with_meta=True)\n",
    "loc_sum = df.groupby(\"location_name\").sum().sum(axis=1).sort_values()\n",
    "loc_sum.plot.barh(figsize=(10, 6))"
   ]
  },
  {
   "cell_type": "markdown",
   "id": "6d0923dc",
   "metadata": {},
   "source": [
    "### Note on filters\n",
    "\n",
    "All string filters (for `source_id`, `location_id` or [metric name](#precalculated-metrics-access) support:\n",
    "\n",
    "- wildcard matching. e.g. `\"bonn*\"` matches `\"bonn\"` and `\"bonnbau\"`\n",
    "- lists of wildcards. e.g. `[\"bonn*\", \"dresden*\"]`\n",
    "- functions. e.g. `lambda n: n.startswith(\"bonn\")`"
   ]
  },
  {
   "cell_type": "markdown",
   "id": "dfca40ae",
   "metadata": {},
   "source": [
    "## Iterate through all tables\n",
    "\n",
    "To access all tables in the published dataset you can use the `Data.iter_*` methods. The `Data` class has to be instantiated and will accept *filters* in the constructor:"
   ]
  },
  {
   "cell_type": "code",
   "execution_count": null,
   "id": "51890a7f",
   "metadata": {},
   "outputs": [],
   "source": [
    "data = Data(source_id=[\"jena\", \"bonn*\"], iso_week_lt=(2021, 30))\n",
    "\n",
    "for week, source_id, df in data.iter_dataframes():\n",
    "    print(f\"{week} {source_id:10s} shape={df.shape}\")"
   ]
  },
  {
   "cell_type": "markdown",
   "id": "9b151b4d",
   "metadata": {},
   "source": [
    "The returned tables or dataframes are always sorted first by week and secondary by source_id. From these tables, it's possible to calculate all kinds of metrics, although it takes some time as the uncompressed tables are gigabytes in size altogether. \n",
    "\n",
    "For the impatient there are some precalcuated metrics contained in this repository.\n",
    "\n",
    "# Precalculated metrics access\n",
    "\n",
    "The available metrics are `free_dates`, `appointments` and `cancellations`. The table rows are the snapshot dates (truncated to exact 15 minutes steps) and the columns contain each metric for each source and sub-location. The column names are concatenated strings of `source_id`/`location_id`/`metric_name`."
   ]
  },
  {
   "cell_type": "markdown",
   "id": "1484ad8c",
   "metadata": {},
   "source": [
    "The above example of free dates per sub-location can be repeated using:"
   ]
  },
  {
   "cell_type": "code",
   "execution_count": null,
   "id": "dd2b4d98",
   "metadata": {},
   "outputs": [],
   "source": [
    "df = Metrics.dataframe(\"free_dates\", \"leipzig\", iso_week=(2021, 30))"
   ]
  },
  {
   "cell_type": "markdown",
   "id": "c3a9abb9",
   "metadata": {},
   "source": [
    "which gives us the filtered metrics:"
   ]
  },
  {
   "cell_type": "code",
   "execution_count": null,
   "id": "5ba73246",
   "metadata": {},
   "outputs": [],
   "source": [
    "df"
   ]
  },
  {
   "cell_type": "markdown",
   "id": "35851483",
   "metadata": {},
   "source": [
    "which can likewise be summed and plotted:"
   ]
  },
  {
   "cell_type": "code",
   "execution_count": null,
   "id": "dc0bd583",
   "metadata": {},
   "outputs": [],
   "source": [
    "df.sum().sort_values().plot.barh(figsize=(10, 6))"
   ]
  },
  {
   "cell_type": "markdown",
   "id": "2e3e31b6",
   "metadata": {},
   "source": [
    "### Appointments and cancellations\n",
    "\n",
    "The number of appointments that have been made between two website snapshots, as well as the number of cancelled appointments are estimated from the raw data. \n",
    "\n",
    "For example we can plot these metrics for a all locations of a source, summed for each day:"
   ]
  },
  {
   "cell_type": "code",
   "execution_count": null,
   "id": "b43b6046",
   "metadata": {},
   "outputs": [],
   "source": [
    "df = Metrics.dataframe(\n",
    "    [\"appointments\", \"cancellations\"], \"blankenburg\",\n",
    "    iso_week_gte=(2021, 30), iso_week_lte=(2021, 37),  # put a time range to the returned data\n",
    ")\n",
    "df.resample(\"1d\").sum().plot(figsize=(16, 4))"
   ]
  },
  {
   "cell_type": "markdown",
   "id": "0623110e",
   "metadata": {},
   "source": [
    "### Metrics with timespans\n",
    "\n",
    "All of the metrics are also available according to their distance to the snapshot time. For example, `appointments_0d` holds the number of appointments made at the same day as the snapshot, or `free_dates_1h` holds the number of free dates that are 1 hour apart from the snapshot date. Snapshot and possible appointment dates are quantized\n",
    "to full hours, days or calendar weeks before calculating the distance.\n",
    "\n",
    "Using wildcard matching, we can retrieve all timespans for a certain metric: "
   ]
  },
  {
   "cell_type": "code",
   "execution_count": null,
   "id": "5e722454",
   "metadata": {},
   "outputs": [],
   "source": [
    "df = Metrics.dataframe(\n",
    "    [\"appointments_*w\"], \"blankenburg\", \"85150\", \n",
    "    iso_week_gte=(2021, 30), iso_week_lte=(2021, 37),\n",
    ")\n",
    "df.resample(\"1d\").sum().plot(figsize=(16, 4))"
   ]
  },
  {
   "cell_type": "markdown",
   "id": "0a9668dd",
   "metadata": {},
   "source": [
    "We can see that appointments made in the same week (`appointments_0w`) are quite rare, and appointments within the next week (`appointments_1w`) are getting rarer while appointments made in the week after next week (`appointments_2w`) are growing.\n",
    "\n",
    "If we compare with the number of free dates available within each weekly timespan, it kind of makes sense and probably is a result of people coming home from holidays and getting busy again:"
   ]
  },
  {
   "cell_type": "code",
   "execution_count": null,
   "id": "7396b5c5",
   "metadata": {},
   "outputs": [],
   "source": [
    "df = Metrics.dataframe(\n",
    "    [\"free_dates_*w\"], \"blankenburg\", \"85150\",\n",
    "    iso_week_gte=(2021, 30), iso_week_lte=(2021, 37),\n",
    ")\n",
    "df.resample(\"1d\").sum().plot(figsize=(16, 4))"
   ]
  }
 ],
 "metadata": {
  "kernelspec": {
   "display_name": "Python 3",
   "language": "python",
   "name": "python3"
  },
  "language_info": {
   "codemirror_mode": {
    "name": "ipython",
    "version": 3
   },
   "file_extension": ".py",
   "mimetype": "text/x-python",
   "name": "python",
   "nbconvert_exporter": "python",
   "pygments_lexer": "ipython3",
   "version": "3.6.9"
  }
 },
 "nbformat": 4,
 "nbformat_minor": 5
}
